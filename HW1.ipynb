{
  "nbformat": 4,
  "nbformat_minor": 0,
  "metadata": {
    "colab": {
      "provenance": [],
      "authorship_tag": "ABX9TyO6o/+MsZjJYnfdnna0IW57",
      "include_colab_link": true
    },
    "kernelspec": {
      "name": "python3",
      "display_name": "Python 3"
    },
    "language_info": {
      "name": "python"
    }
  },
  "cells": [
    {
      "cell_type": "markdown",
      "metadata": {
        "id": "view-in-github",
        "colab_type": "text"
      },
      "source": [
        "<a href=\"https://colab.research.google.com/github/SethSekyere/SethMLClass/blob/main/HW1.ipynb\" target=\"_parent\"><img src=\"https://colab.research.google.com/assets/colab-badge.svg\" alt=\"Open In Colab\"/></a>"
      ]
    },
    {
      "cell_type": "markdown",
      "source": [
        "##Machine Learning for Engineering\n",
        "##MANE 4962\n",
        "##Homework 1\n",
        "\n",
        "###Seth Obimpeh Sekyere\n",
        "##RIN:662055184"
      ],
      "metadata": {
        "id": "W0BcRinzBaCw"
      }
    },
    {
      "cell_type": "markdown",
      "source": [
        "# Question 1\n",
        "\n",
        "## (a.)\n",
        "## The number of features in X1 is 5 and the number of features in the X2  would be 4.\n",
        "\n",
        "\n",
        "\n",
        "\n",
        "\n",
        "##(b.)\n",
        "##(i)The L₁ norm is the sum of the absolute values of the elements.\n",
        "## The L₂ norm is the square root of the sum of the squares of the elements.\n",
        "##The L∞ norm is the maximum absolute value of all elements.\n",
        "\n",
        "##For X₁ = [2 3 4 8 9]ᵀ\n",
        "\n",
        "##L₁ norm = ||X₁||₁ = |x₁| + |x₂| + ... + |xₙ| = |2| + |3| + |4| + |8| + |9| = 26\n",
        "\n",
        "##L₂ norm = ||X₁||₂ = √(x₁² + x₂² + ... + xₙ²) = √(2² + 3² + 4² + 8² + 9²) = √174 = 13.1909\n",
        "\n",
        "##L∞ norm = ||X₁||∞ = max(|x₁|, |x₂|, ..., |xₙ|) = max(2, 3, 4, 8, 9) = 9\n",
        "\n",
        "##Hence, the L₁ norm, L₂ norm, and L₊∞ norm for X₁ are 26, 13.1909, and 9, respectively.\n",
        "                                                                                          \n",
        "\n",
        "##(ii)\n",
        "##For X₂ = [2 -3 -4 89]ᵀ\n",
        "\n",
        "##L₁ norm = ||X₂||₁ = |x₁| + |x₂| + ... + |xₙ| = |2| + |-3| + |-4| + |89| = 98\n",
        "\n",
        "##L₂ norm = ||X₂||₂ = √(x₁² + x₂² + ... + xₙ²) = √(2² + (-3)² + (-4)² + 89²) = 5√318 = 89.1628\n",
        "\n",
        "##L∞ norm = ||X₂||∞ = max(|x₁|, |x₂|, ..., |xₙ|) = max(|2|, |-3|, |-4|, |89|) = 89\n",
        "\n",
        "##Hence, the L₁ norm, L₂ norm, and L₊∞ norm for X₂ are 98, 89.1628, and 89, respectively.\n",
        "\n",
        "\n"
      ],
      "metadata": {
        "id": "Hr3PZ8oLLX9F"
      }
    },
    {
      "cell_type": "code",
      "source": [
        "def l1_norm(vector):\n",
        "    return sum(abs(x) for x in vector)\n",
        "vector = [2, 3, 4, 8, 9]\n",
        "result = l1_norm(vector)\n",
        "print(f\"L1 Norm of the vector X1 {vector}: {result}\")\n",
        "\n",
        "\n",
        "\n",
        "def l2_norm(vector):\n",
        "    return math.sqrt(sum(x**2 for x in vector))\n",
        "vector = [2, 3, 4, 8, 9]\n",
        "result = l2_norm(vector)\n",
        "print(f\"L2 Norm of the vector X1 {vector}: {result}\")\n",
        "\n",
        "\n",
        "\n",
        "def linfinity_norm(vector):\n",
        "    return max(abs(x) for x in vector)\n",
        "vector = [2, 3, 4, 8, 9]\n",
        "result = linfinity_norm(vector)\n",
        "print(f\"Linfinity Norm of the vector X1 {vector}: {result}\")\n",
        "\n",
        "\n",
        "\n",
        "\n",
        "\n",
        "def l1_norm(vector):\n",
        "    return sum(abs(x) for x in vector)\n",
        "vector = [2, -3, -4, 89]\n",
        "result = l1_norm(vector)\n",
        "print(f\"L1 Norm of the vector X2 {vector}: {result}\")\n",
        "\n",
        "\n",
        "\n",
        "\n",
        "def l2_norm(vector):\n",
        "    return math.sqrt(sum(x**2 for x in vector))\n",
        "vector = [2, -3, -4, 89]\n",
        "result = l2_norm(vector)\n",
        "print(f\"L2 Norm of the vector X2 {vector}: {result}\")\n",
        "\n",
        "\n",
        "\n",
        "def linfinity_norm(vector):\n",
        "    return max(abs(x) for x in vector)\n",
        "vector = [2, -3, -4, 89]\n",
        "result = linfinity_norm(vector)\n",
        "print(f\"Linfinity Norm of the vector X2 {vector}: {result}\")\n",
        "\n"
      ],
      "metadata": {
        "colab": {
          "base_uri": "https://localhost:8080/",
          "height": 0
        },
        "id": "OBG631z_wRWG",
        "outputId": "3b3745c3-d1b5-4f29-9b19-7e76052c4190"
      },
      "execution_count": 15,
      "outputs": [
        {
          "output_type": "stream",
          "name": "stdout",
          "text": [
            "L1 Norm of the vector X1 [2, 3, 4, 8, 9]: 26\n",
            "L2 Norm of the vector X1 [2, 3, 4, 8, 9]: 13.19090595827292\n",
            "Linfinity Norm of the vector X1 [2, 3, 4, 8, 9]: 9\n",
            "L1 Norm of the vector X2 [2, -3, -4, 89]: 98\n",
            "L2 Norm of the vector X2 [2, -3, -4, 89]: 89.16277250063504\n",
            "Linfinity Norm of the vector X2 [2, -3, -4, 89]: 89\n"
          ]
        }
      ]
    },
    {
      "cell_type": "markdown",
      "source": [
        "##Question 2\n",
        "\n",
        "##(a.)\n",
        "##A colour image has 3 channels : red, green and blue\n",
        "\n",
        "## The length of the feature input vector x= 1024 ×1024 ×3=3145728\n",
        "\n",
        "\n",
        "\n",
        "##(b.)\n",
        "##The length of the feature output vector y= 64 ×64 ×3= 12288\n",
        "\n",
        "\n",
        "##(c.)\n",
        "##Given y=Wx+b , where W is a matrix and b is a vector.\n",
        "##x has 3145728 dimensions\n",
        "##y has 12288 dimensions\n",
        "\n",
        "\n",
        "##Hence W will have about 12288 ×  3145728 elements=3.8655 × 10¹⁰ elements\n",
        "\n",
        "##b will have  12288 elements.\n",
        "\n"
      ],
      "metadata": {
        "id": "7rcE09_Loyfa"
      }
    },
    {
      "cell_type": "code",
      "source": [
        "#Calculating the Length of Feature vectors\n",
        "Input_image_size=1024*1024\n",
        "Output_image_size=64*64\n",
        "Colour_channels=3\n",
        "Length_of_feature_input_vector=Colour_channels*Input_image_size\n",
        "Length_of_feature_output_vector=Colour_channels*Output_image_size\n",
        "print(\"The Length of the feature Input Vector X is:\",Length_of_feature_input_vector)\n",
        "print(\"The Length of the feature Output Vector Y is:\",Length_of_feature_output_vector)\n",
        "\n",
        "\n",
        "\n",
        "#Calculating the number of elements in W and b\n",
        "Number_of_elements_in_W=Input_image_size*Colour_channels*Length_of_feature_output_vector\n",
        "Number_of_elements_in_b=Length_of_feature_output_vector\n",
        "print(\"The Number of elements in matrix W is:\",Number_of_elements_in_W)\n",
        "print(\"The Number of elements in vector b is:\",Number_of_elements_in_b)"
      ],
      "metadata": {
        "colab": {
          "base_uri": "https://localhost:8080/",
          "height": 0
        },
        "id": "3ERCvRpNzsHH",
        "outputId": "a9ef176f-d1f8-4df4-d7ca-363753301632"
      },
      "execution_count": 24,
      "outputs": [
        {
          "output_type": "stream",
          "name": "stdout",
          "text": [
            "The Length of the feature Input Vector X is: 3145728\n",
            "The Length of the feature Output Vector Y is: 12288\n",
            "The Number of elements in matrix W is: 38654705664\n",
            "The Number of elements in vector b is: 12288\n"
          ]
        }
      ]
    },
    {
      "cell_type": "markdown",
      "source": [
        "##Question 3\n",
        "## **Problem 3**\n",
        "\n",
        "##Given W = [1 -1: 2 0]\n",
        "\n",
        "\n",
        "**1-norm (||W||₁):**\n",
        "The 1-norm is the maximum of the absolute column sum.\n",
        "[ ||W||_{1} ]= \\max(|1| + |2|, |-1| + |0|) = \\max(3, 1) = 3\n",
        "\n",
        "\n",
        "**2-norm (||W||₂):**\n",
        "The 2-norm is the square root of the sum of the squares of the elements.\n",
        "[ ||W||_{2}] = sqrt({1^{2} + 2^{2} + (-1)^{2} + 0^{2}}) = sqrt{6} )=2.4495\n",
        "\n",
        "**Infinity norm**\n",
        "The infinity norm is the maximum of the sum of the absolute values of elements in a row\n",
        "which is max(1+1,2+0)=2\n",
        "\n",
        "\n",
        "\n",
        "**Frobenius norm (||W||ₑ):**\n",
        "The Frobenius norm is calculated as the square root of the sum of squares of all elements.\n",
        "[ ||W||_{F}] ]= sqrt({1^{2} + 2^{2} + (-1)^{2} + 0^{2}}) = sqrt{6}=2.4495\n",
        "\n",
        "Hence, the 1-norm, 2-norm, and Frobenius norm are 3, 2.4495, and 2.4495 respectively.\n",
        "The infinity norm is 2.\n",
        "\n"
      ],
      "metadata": {
        "id": "evoHzNGP1Yca"
      }
    },
    {
      "cell_type": "code",
      "source": [
        "#Calculating l1 norm\n",
        "def l1_norm_matrix(matrix):\n",
        "    col_sum = [sum(abs(matrix[row][col]) for row in range(len(matrix))) for col in range(len(matrix[0]))]\n",
        "    return max(col_sum)\n",
        "\n",
        "matrix = [\n",
        "    [1, -1],\n",
        "    [2, 0]\n",
        "]\n",
        "\n",
        "result = l1_norm_matrix(matrix)\n",
        "print(f\"L1 Norm of the matrix:\")\n",
        "for row in matrix:\n",
        "    print(row)\n",
        "print(f\"Result: {result}\")\n",
        "\n",
        "\n",
        "#calculating l2 norm\n",
        "\n",
        "import math\n",
        "\n",
        "def l2_norm_matrix(matrix):\n",
        "    sum_of_squares = sum(matrix[row][col]**2 for row in range(len(matrix)) for col in range(len(matrix[0])))\n",
        "    return math.sqrt(sum_of_squares)\n",
        "\n",
        "matrix = [\n",
        "    [1, -1],\n",
        "    [2, 0]\n",
        "]\n",
        "\n",
        "result = l2_norm_matrix(matrix)\n",
        "\n",
        "print(f\"L2 Norm of the matrix:\")\n",
        "for row in matrix:\n",
        "    print(row)\n",
        "print(f\"Result: {result}\")\n",
        "\n",
        "\n",
        "\n",
        "#Calculating L-infinity norm\n",
        "def linfinity_norm_matrix(matrix):\n",
        "    row_sum = [sum(abs(matrix[row][col]) for col in range(len(matrix[0]))) for row in range(len(matrix))]\n",
        "    return max(row_sum)\n",
        "matrix = [\n",
        "    [1, -1],\n",
        "    [2, 0]\n",
        "]\n",
        "\n",
        "result = linfinity_norm_matrix(matrix)\n",
        "print(f\"Linfinity Norm of the matrix:\")\n",
        "for row in matrix:\n",
        "    print(row)\n",
        "print(f\"Result: {result}\")\n",
        "\n",
        "\n",
        "\n",
        "#Calculating Frobenius norm\n",
        "import math\n",
        "\n",
        "def frobenius_norm_matrix(matrix):\n",
        "    sum_of_squares = sum(matrix[row][col]**2 for row in range(len(matrix)) for col in range(len(matrix[0])))\n",
        "    return math.sqrt(sum_of_squares)\n",
        "\n",
        "# Example usage:\n",
        "matrix = [\n",
        "    [1, -1],\n",
        "    [2, 0]\n",
        "]\n",
        "\n",
        "result = frobenius_norm_matrix(matrix)\n",
        "\n",
        "print(f\"Frobenius Norm of the matrix:\")\n",
        "for row in matrix:\n",
        "    print(row)\n",
        "print(f\"Result: {result}\")\n"
      ],
      "metadata": {
        "colab": {
          "base_uri": "https://localhost:8080/",
          "height": 0
        },
        "id": "P4PFu7aj4_WV",
        "outputId": "0717169c-c030-4bcb-c809-53c3602f5cf7"
      },
      "execution_count": 31,
      "outputs": [
        {
          "output_type": "stream",
          "name": "stdout",
          "text": [
            "L1 Norm of the matrix:\n",
            "[1, -1]\n",
            "[2, 0]\n",
            "Result: 3\n",
            "L2 Norm of the matrix:\n",
            "[1, -1]\n",
            "[2, 0]\n",
            "Result: 2.449489742783178\n",
            "Linfinity Norm of the matrix:\n",
            "[1, -1]\n",
            "[2, 0]\n",
            "Result: 2\n",
            "Frobenius Norm of the matrix:\n",
            "[1, -1]\n",
            "[2, 0]\n",
            "Result: 2.449489742783178\n"
          ]
        }
      ]
    },
    {
      "cell_type": "markdown",
      "source": [
        "# Question 4\n",
        "\n",
        "Use the Iris dataset and the code shown in class, but choose 3 out of the 4\n",
        "original features instead of two and calculate the accuracy score of classification.\n",
        "\n"
      ],
      "metadata": {
        "id": "VN16ub-zJqvL"
      }
    },
    {
      "cell_type": "code",
      "source": [
        "#Question 4 code\n",
        "from sklearn import datasets\n",
        "\n",
        "iris = datasets.load_iris()\n",
        "\n",
        "iris.data\n",
        "\n",
        "iris.feature_names\n",
        "\n",
        "iris.target_names\n",
        "\n",
        "iris.target\n",
        "\n",
        "X = iris.data\n",
        "y = iris.target\n",
        "\n",
        "X.shape\n",
        "\n",
        "y.shape\n",
        "\n",
        "\n",
        "%notebook inline\n",
        "import matplotlib.pyplot as plt\n",
        "\n",
        "plt.scatter(X[:,0],X[:,1])\n",
        "plt.xlabel(iris.feature_names[0])\n",
        "plt.ylabel(iris.feature_names[1])\n",
        "\n",
        "plot = plt.scatter(X[:,0],X[:,1],c=y)\n",
        "plt.xlabel(iris.feature_names[0])\n",
        "plt.ylabel(iris.feature_names[1])\n",
        "# plt.legend(handles=plot.legend_elements()[0], labels=iris.target_names.tolist())\n",
        "\n",
        "X = iris.data[:, :3] # only selecting first three features\n",
        "y = iris.target\n",
        "\n",
        "\n",
        "from sklearn.model_selection import train_test_split\n",
        "\n",
        "X_train, X_test, y_train, y_test=train_test_split(\n",
        "    X,y,\n",
        "    test_size=0.40,\n",
        "    train_size=0.60,\n",
        "    random_state=123,\n",
        "    shuffle=True,\n",
        "    stratify=y)\n",
        "\n",
        "\n",
        "from sklearn import svm\n",
        "\n",
        "clf = svm.SVC()\n",
        "clf.fit(X_train, y_train)\n",
        "\n",
        "\n",
        "preds = clf.predict(X_test)\n",
        "print(preds)\n",
        "\n",
        "print('actual iris species')\n",
        "print(y_test)\n",
        "\n",
        "from sklearn.metrics import accuracy_score\n",
        "acc = accuracy_score(y_test,clf.predict(X_test) )\n",
        "print('accuracy score :', acc)\n",
        "\n",
        "\n"
      ],
      "metadata": {
        "colab": {
          "base_uri": "https://localhost:8080/",
          "height": 561
        },
        "id": "sSKNpmjHG5OR",
        "outputId": "4c970f90-1653-4811-8cfb-0bb6dca05566"
      },
      "execution_count": 32,
      "outputs": [
        {
          "output_type": "stream",
          "name": "stdout",
          "text": [
            "[1 1 1 1 0 2 2 0 0 2 0 2 2 1 2 0 1 2 0 2 2 0 2 0 0 2 1 0 0 0 0 0 1 2 0 1 1\n",
            " 2 0 1 0 2 2 2 0 2 2 2 0 0 1 1 2 1 2 1 1 2 1 1]\n",
            "actual iris species\n",
            "[1 1 1 1 0 1 2 0 0 2 0 2 2 1 2 0 1 2 0 2 2 0 1 0 0 2 1 0 0 0 0 0 1 2 0 1 1\n",
            " 2 0 1 0 2 2 2 0 2 2 1 0 0 1 1 2 1 2 1 1 2 1 2]\n",
            "accuracy score : 0.9333333333333333\n"
          ]
        },
        {
          "output_type": "display_data",
          "data": {
            "text/plain": [
              "<Figure size 640x480 with 1 Axes>"
            ],
            "image/png": "[encoded data removed]"
          },
          "metadata": {}
        }
      ]
    },
    {
      "cell_type": "markdown",
      "source": [
        "## From the code, we can see that the accuracy score is 0.9333 which is about 93.33%\n",
        "\n",
        "\n",
        "\n"
      ],
      "metadata": {
        "id": "PcZ6vbsPIqMn"
      }
    },
    {
      "cell_type": "markdown",
      "source": [
        "##Question 5\n",
        "I am supposed train a neural network that takes numbers from 1 to 100 as input.\n",
        "And it is supposed to output the 7-th root."
      ],
      "metadata": {
        "id": "25qQjDvZKJrW"
      }
    },
    {
      "cell_type": "code",
      "execution_count": null,
      "metadata": {
        "colab": {
          "base_uri": "https://localhost:8080/",
          "height": 1000
        },
        "id": "1dVgWo1RJlM4",
        "outputId": "4f34d0c8-d513-43e0-ce0a-13f0a1b05d77"
      },
      "outputs": [
        {
          "output_type": "stream",
          "name": "stdout",
          "text": [
            "Model: \"sequential_3\"\n",
            "_________________________________________________________________\n",
            " Layer (type)                Output Shape              Param #   \n",
            "=================================================================\n",
            " dense_14 (Dense)            (None, 6)                 12        \n",
            "                                                                 \n",
            " dense_15 (Dense)            (None, 6)                 42        \n",
            "                                                                 \n",
            " dense_16 (Dense)            (None, 6)                 42        \n",
            "                                                                 \n",
            " dense_17 (Dense)            (None, 6)                 42        \n",
            "                                                                 \n",
            " dense_18 (Dense)            (None, 1)                 7         \n",
            "                                                                 \n",
            "=================================================================\n",
            "Total params: 145 (580.00 Byte)\n",
            "Trainable params: 145 (580.00 Byte)\n",
            "Non-trainable params: 0 (0.00 Byte)\n",
            "_________________________________________________________________\n",
            "1/1 [==============================] - 0s 72ms/step\n",
            "[1.0] => 1.00 (expected 1.00)\n",
            "[4.0] => 1.21 (expected 1.22)\n",
            "[9.0] => 1.38 (expected 1.37)\n",
            "[16.0] => 1.54 (expected 1.49)\n",
            "[25.0] => 1.59 (expected 1.58)\n",
            "[36.0] => 1.64 (expected 1.67)\n",
            "[49.0] => 1.71 (expected 1.74)\n",
            "[64.0] => 1.79 (expected 1.81)\n",
            "[81.0] => 1.88 (expected 1.87)\n",
            "[100.0] => 1.97 (expected 1.93)\n",
            "4/4 [==============================] - 0s 3ms/step\n"
          ]
        },
        {
          "output_type": "execute_result",
          "data": {
            "text/plain": [
              "<matplotlib.legend.Legend at 0x7b875a369cf0>"
            ]
          },
          "metadata": {},
          "execution_count": 11
        },
        {
          "output_type": "display_data",
          "data": {
            "text/plain": [
              "<Figure size 640x480 with 1 Axes>"
            ],
            "image/png": "[encoded data removed]"
          },
          "metadata": {}
        }
      ],
      "source": [
        "\n",
        "import tensorflow as tf\n",
        "from numpy import loadtxt\n",
        "from keras.models import Sequential\n",
        "from keras.layers import Dense\n",
        "from keras import optimizers\n",
        "from tensorflow.python.keras.optimizers import *\n",
        "import numpy as np\n",
        "\n",
        "\n",
        "#Load dataset\n",
        "#split into input (X) and output (y)\n",
        "X = np.array([[1], [4], [9], [16], [25], [36], [49], [64], [81], [100]])\n",
        "X = X*1.0\n",
        "y = np.power(X,(1/7))\n",
        "\n",
        "#  np.array([[1], [2], [3], [4], [5], [6], [7], [8], [9], [10]])\n",
        "y = y*1.0\n",
        "\n",
        "#define keras model\n",
        "model = Sequential()\n",
        "\n",
        "model.add(Dense(6,input_dim=1,activation='relu'))\n",
        "model.add(Dense(6,activation='relu'))\n",
        "model.add(Dense(6,activation='relu'))\n",
        "model.add(Dense(6,activation='relu'))\n",
        "model.add(Dense(1))\n",
        "\n",
        "#compile the keras model\n",
        "opt = optimizers.Adam(learning_rate=0.001)\n",
        "mse = tf.keras.losses.MeanSquaredError(\n",
        "    reduction=tf.keras.losses.Reduction.SUM)\n",
        "model.compile(loss=mse, optimizer=opt)\n",
        "\n",
        "\n",
        "\n",
        "#fit the keras model on the dataset (CPU)\n",
        "model.fit(X,y,epochs=2000,batch_size=10, verbose=0)\n",
        "model.summary()\n",
        "\n",
        "#make class predictions with the model\n",
        "predictions = model.predict(X)\n",
        "\n",
        "#summarize the first 10 cases\n",
        "for i in range(10):\n",
        "    print('%s => %.2f (expected %.2f)' %(X[i].tolist(), predictions[i], y[i]) )\n",
        "\n",
        "\n",
        "\n",
        "    import matplotlib.pyplot as plt\n",
        "number_grid = np.linspace(1, 100, 100)\n",
        "plt.scatter(X,y, label='data')\n",
        "plt.plot(number_grid,model.predict(np.expand_dims(number_grid,axis=1)) , color='red', label='model')\n",
        "plt.xlabel('number')\n",
        "plt.ylabel('seventh root')\n",
        "plt.legend()"
      ]
    },
    {
      "cell_type": "markdown",
      "source": [
        "# Question 6\n",
        " Use the Iris dataset and the neural network code shown in class to create a\n",
        "neural network model that takes sepal length as input and predicts petal length as output.\n",
        "[Hint: Use Numpy or Pandas to wrangle Iris dataset to help define your input and output.\n",
        "You are free to define the number of neurons in each layer]"
      ],
      "metadata": {
        "id": "7bH0BtrCLohF"
      }
    },
    {
      "cell_type": "code",
      "source": [
        "from sklearn import datasets\n",
        "iris = datasets.load_iris()"
      ],
      "metadata": {
        "id": "LaaFp8OKNL1E"
      },
      "execution_count": 3,
      "outputs": []
    },
    {
      "cell_type": "code",
      "source": [
        "iris"
      ],
      "metadata": {
        "colab": {
          "base_uri": "https://localhost:8080/",
          "height": 0
        },
        "id": "O1mWAn89NVI5",
        "outputId": "b89fa2d1-8594-4a88-a02d-a6b74d35dca0"
      },
      "execution_count": 4,
      "outputs": [
        {
          "output_type": "execute_result",
          "data": {
            "text/plain": [
              "{'data': array([[5.1, 3.5, 1.4, 0.2],\n",
              "        [4.9, 3. , 1.4, 0.2],\n",
              "        [4.7, 3.2, 1.3, 0.2],\n",
              "        [4.6, 3.1, 1.5, 0.2],\n",
              "        [5. , 3.6, 1.4, 0.2],\n",
              "        [5.4, 3.9, 1.7, 0.4],\n",
              "        [4.6, 3.4, 1.4, 0.3],\n",
              "        [5. , 3.4, 1.5, 0.2],\n",
              "        [4.4, 2.9, 1.4, 0.2],\n",
              "        [4.9, 3.1, 1.5, 0.1],\n",
              "        [5.4, 3.7, 1.5, 0.2],\n",
              "        [4.8, 3.4, 1.6, 0.2],\n",
              "        [4.8, 3. , 1.4, 0.1],\n",
              "        [4.3, 3. , 1.1, 0.1],\n",
              "        [5.8, 4. , 1.2, 0.2],\n",
              "        [5.7, 4.4, 1.5, 0.4],\n",
              "        [5.4, 3.9, 1.3, 0.4],\n",
              "        [5.1, 3.5, 1.4, 0.3],\n",
              "        [5.7, 3.8, 1.7, 0.3],\n",
              "        [5.1, 3.8, 1.5, 0.3],\n",
              "        [5.4, 3.4, 1.7, 0.2],\n",
              "        [5.1, 3.7, 1.5, 0.4],\n",
              "        [4.6, 3.6, 1. , 0.2],\n",
              "        [5.1, 3.3, 1.7, 0.5],\n",
              "        [4.8, 3.4, 1.9, 0.2],\n",
              "        [5. , 3. , 1.6, 0.2],\n",
              "        [5. , 3.4, 1.6, 0.4],\n",
              "        [5.2, 3.5, 1.5, 0.2],\n",
              "        [5.2, 3.4, 1.4, 0.2],\n",
              "        [4.7, 3.2, 1.6, 0.2],\n",
              "        [4.8, 3.1, 1.6, 0.2],\n",
              "        [5.4, 3.4, 1.5, 0.4],\n",
              "        [5.2, 4.1, 1.5, 0.1],\n",
              "        [5.5, 4.2, 1.4, 0.2],\n",
              "        [4.9, 3.1, 1.5, 0.2],\n",
              "        [5. , 3.2, 1.2, 0.2],\n",
              "        [5.5, 3.5, 1.3, 0.2],\n",
              "        [4.9, 3.6, 1.4, 0.1],\n",
              "        [4.4, 3. , 1.3, 0.2],\n",
              "        [5.1, 3.4, 1.5, 0.2],\n",
              "        [5. , 3.5, 1.3, 0.3],\n",
              "        [4.5, 2.3, 1.3, 0.3],\n",
              "        [4.4, 3.2, 1.3, 0.2],\n",
              "        [5. , 3.5, 1.6, 0.6],\n",
              "        [5.1, 3.8, 1.9, 0.4],\n",
              "        [4.8, 3. , 1.4, 0.3],\n",
              "        [5.1, 3.8, 1.6, 0.2],\n",
              "        [4.6, 3.2, 1.4, 0.2],\n",
              "        [5.3, 3.7, 1.5, 0.2],\n",
              "        [5. , 3.3, 1.4, 0.2],\n",
              "        [7. , 3.2, 4.7, 1.4],\n",
              "        [6.4, 3.2, 4.5, 1.5],\n",
              "        [6.9, 3.1, 4.9, 1.5],\n",
              "        [5.5, 2.3, 4. , 1.3],\n",
              "        [6.5, 2.8, 4.6, 1.5],\n",
              "        [5.7, 2.8, 4.5, 1.3],\n",
              "        [6.3, 3.3, 4.7, 1.6],\n",
              "        [4.9, 2.4, 3.3, 1. ],\n",
              "        [6.6, 2.9, 4.6, 1.3],\n",
              "        [5.2, 2.7, 3.9, 1.4],\n",
              "        [5. , 2. , 3.5, 1. ],\n",
              "        [5.9, 3. , 4.2, 1.5],\n",
              "        [6. , 2.2, 4. , 1. ],\n",
              "        [6.1, 2.9, 4.7, 1.4],\n",
              "        [5.6, 2.9, 3.6, 1.3],\n",
              "        [6.7, 3.1, 4.4, 1.4],\n",
              "        [5.6, 3. , 4.5, 1.5],\n",
              "        [5.8, 2.7, 4.1, 1. ],\n",
              "        [6.2, 2.2, 4.5, 1.5],\n",
              "        [5.6, 2.5, 3.9, 1.1],\n",
              "        [5.9, 3.2, 4.8, 1.8],\n",
              "        [6.1, 2.8, 4. , 1.3],\n",
              "        [6.3, 2.5, 4.9, 1.5],\n",
              "        [6.1, 2.8, 4.7, 1.2],\n",
              "        [6.4, 2.9, 4.3, 1.3],\n",
              "        [6.6, 3. , 4.4, 1.4],\n",
              "        [6.8, 2.8, 4.8, 1.4],\n",
              "        [6.7, 3. , 5. , 1.7],\n",
              "        [6. , 2.9, 4.5, 1.5],\n",
              "        [5.7, 2.6, 3.5, 1. ],\n",
              "        [5.5, 2.4, 3.8, 1.1],\n",
              "        [5.5, 2.4, 3.7, 1. ],\n",
              "        [5.8, 2.7, 3.9, 1.2],\n",
              "        [6. , 2.7, 5.1, 1.6],\n",
              "        [5.4, 3. , 4.5, 1.5],\n",
              "        [6. , 3.4, 4.5, 1.6],\n",
              "        [6.7, 3.1, 4.7, 1.5],\n",
              "        [6.3, 2.3, 4.4, 1.3],\n",
              "        [5.6, 3. , 4.1, 1.3],\n",
              "        [5.5, 2.5, 4. , 1.3],\n",
              "        [5.5, 2.6, 4.4, 1.2],\n",
              "        [6.1, 3. , 4.6, 1.4],\n",
              "        [5.8, 2.6, 4. , 1.2],\n",
              "        [5. , 2.3, 3.3, 1. ],\n",
              "        [5.6, 2.7, 4.2, 1.3],\n",
              "        [5.7, 3. , 4.2, 1.2],\n",
              "        [5.7, 2.9, 4.2, 1.3],\n",
              "        [6.2, 2.9, 4.3, 1.3],\n",
              "        [5.1, 2.5, 3. , 1.1],\n",
              "        [5.7, 2.8, 4.1, 1.3],\n",
              "        [6.3, 3.3, 6. , 2.5],\n",
              "        [5.8, 2.7, 5.1, 1.9],\n",
              "        [7.1, 3. , 5.9, 2.1],\n",
              "        [6.3, 2.9, 5.6, 1.8],\n",
              "        [6.5, 3. , 5.8, 2.2],\n",
              "        [7.6, 3. , 6.6, 2.1],\n",
              "        [4.9, 2.5, 4.5, 1.7],\n",
              "        [7.3, 2.9, 6.3, 1.8],\n",
              "        [6.7, 2.5, 5.8, 1.8],\n",
              "        [7.2, 3.6, 6.1, 2.5],\n",
              "        [6.5, 3.2, 5.1, 2. ],\n",
              "        [6.4, 2.7, 5.3, 1.9],\n",
              "        [6.8, 3. , 5.5, 2.1],\n",
              "        [5.7, 2.5, 5. , 2. ],\n",
              "        [5.8, 2.8, 5.1, 2.4],\n",
              "        [6.4, 3.2, 5.3, 2.3],\n",
              "        [6.5, 3. , 5.5, 1.8],\n",
              "        [7.7, 3.8, 6.7, 2.2],\n",
              "        [7.7, 2.6, 6.9, 2.3],\n",
              "        [6. , 2.2, 5. , 1.5],\n",
              "        [6.9, 3.2, 5.7, 2.3],\n",
              "        [5.6, 2.8, 4.9, 2. ],\n",
              "        [7.7, 2.8, 6.7, 2. ],\n",
              "        [6.3, 2.7, 4.9, 1.8],\n",
              "        [6.7, 3.3, 5.7, 2.1],\n",
              "        [7.2, 3.2, 6. , 1.8],\n",
              "        [6.2, 2.8, 4.8, 1.8],\n",
              "        [6.1, 3. , 4.9, 1.8],\n",
              "        [6.4, 2.8, 5.6, 2.1],\n",
              "        [7.2, 3. , 5.8, 1.6],\n",
              "        [7.4, 2.8, 6.1, 1.9],\n",
              "        [7.9, 3.8, 6.4, 2. ],\n",
              "        [6.4, 2.8, 5.6, 2.2],\n",
              "        [6.3, 2.8, 5.1, 1.5],\n",
              "        [6.1, 2.6, 5.6, 1.4],\n",
              "        [7.7, 3. , 6.1, 2.3],\n",
              "        [6.3, 3.4, 5.6, 2.4],\n",
              "        [6.4, 3.1, 5.5, 1.8],\n",
              "        [6. , 3. , 4.8, 1.8],\n",
              "        [6.9, 3.1, 5.4, 2.1],\n",
              "        [6.7, 3.1, 5.6, 2.4],\n",
              "        [6.9, 3.1, 5.1, 2.3],\n",
              "        [5.8, 2.7, 5.1, 1.9],\n",
              "        [6.8, 3.2, 5.9, 2.3],\n",
              "        [6.7, 3.3, 5.7, 2.5],\n",
              "        [6.7, 3. , 5.2, 2.3],\n",
              "        [6.3, 2.5, 5. , 1.9],\n",
              "        [6.5, 3. , 5.2, 2. ],\n",
              "        [6.2, 3.4, 5.4, 2.3],\n",
              "        [5.9, 3. , 5.1, 1.8]]),\n",
              " 'target': array([0, 0, 0, 0, 0, 0, 0, 0, 0, 0, 0, 0, 0, 0, 0, 0, 0, 0, 0, 0, 0, 0,\n",
              "        0, 0, 0, 0, 0, 0, 0, 0, 0, 0, 0, 0, 0, 0, 0, 0, 0, 0, 0, 0, 0, 0,\n",
              "        0, 0, 0, 0, 0, 0, 1, 1, 1, 1, 1, 1, 1, 1, 1, 1, 1, 1, 1, 1, 1, 1,\n",
              "        1, 1, 1, 1, 1, 1, 1, 1, 1, 1, 1, 1, 1, 1, 1, 1, 1, 1, 1, 1, 1, 1,\n",
              "        1, 1, 1, 1, 1, 1, 1, 1, 1, 1, 1, 1, 2, 2, 2, 2, 2, 2, 2, 2, 2, 2,\n",
              "        2, 2, 2, 2, 2, 2, 2, 2, 2, 2, 2, 2, 2, 2, 2, 2, 2, 2, 2, 2, 2, 2,\n",
              "        2, 2, 2, 2, 2, 2, 2, 2, 2, 2, 2, 2, 2, 2, 2, 2, 2, 2]),\n",
              " 'frame': None,\n",
              " 'target_names': array(['setosa', 'versicolor', 'virginica'], dtype='<U10'),\n",
              " 'DESCR': '.. _iris_dataset:\\n\\nIris plants dataset\\n--------------------\\n\\n**Data Set Characteristics:**\\n\\n    :Number of Instances: 150 (50 in each of three classes)\\n    :Number of Attributes: 4 numeric, predictive attributes and the class\\n    :Attribute Information:\\n        - sepal length in cm\\n        - sepal width in cm\\n        - petal length in cm\\n        - petal width in cm\\n        - class:\\n                - Iris-Setosa\\n                - Iris-Versicolour\\n                - Iris-Virginica\\n                \\n    :Summary Statistics:\\n\\n    ============== ==== ==== ======= ===== ====================\\n                    Min  Max   Mean    SD   Class Correlation\\n    ============== ==== ==== ======= ===== ====================\\n    sepal length:   4.3  7.9   5.84   0.83    0.7826\\n    sepal width:    2.0  4.4   3.05   0.43   -0.4194\\n    petal length:   1.0  6.9   3.76   1.76    0.9490  (high!)\\n    petal width:    0.1  2.5   1.20   0.76    0.9565  (high!)\\n    ============== ==== ==== ======= ===== ====================\\n\\n    :Missing Attribute Values: None\\n    :Class Distribution: 33.3% for each of 3 classes.\\n    :Creator: R.A. Fisher\\n    :Donor: Michael Marshall (MARSHALL%PLU@io.arc.nasa.gov)\\n    :Date: July, 1988\\n\\nThe famous Iris database, first used by Sir R.A. Fisher. The dataset is taken\\nfrom Fisher\\'s paper. Note that it\\'s the same as in R, but not as in the UCI\\nMachine Learning Repository, which has two wrong data points.\\n\\nThis is perhaps the best known database to be found in the\\npattern recognition literature.  Fisher\\'s paper is a classic in the field and\\nis referenced frequently to this day.  (See Duda & Hart, for example.)  The\\ndata set contains 3 classes of 50 instances each, where each class refers to a\\ntype of iris plant.  One class is linearly separable from the other 2; the\\nlatter are NOT linearly separable from each other.\\n\\n.. topic:: References\\n\\n   - Fisher, R.A. \"The use of multiple measurements in taxonomic problems\"\\n     Annual Eugenics, 7, Part II, 179-188 (1936); also in \"Contributions to\\n     Mathematical Statistics\" (John Wiley, NY, 1950).\\n   - Duda, R.O., & Hart, P.E. (1973) Pattern Classification and Scene Analysis.\\n     (Q327.D83) John Wiley & Sons.  ISBN 0-471-22361-1.  See page 218.\\n   - Dasarathy, B.V. (1980) \"Nosing Around the Neighborhood: A New System\\n     Structure and Classification Rule for Recognition in Partially Exposed\\n     Environments\".  IEEE Transactions on Pattern Analysis and Machine\\n     Intelligence, Vol. PAMI-2, No. 1, 67-71.\\n   - Gates, G.W. (1972) \"The Reduced Nearest Neighbor Rule\".  IEEE Transactions\\n     on Information Theory, May 1972, 431-433.\\n   - See also: 1988 MLC Proceedings, 54-64.  Cheeseman et al\"s AUTOCLASS II\\n     conceptual clustering system finds 3 classes in the data.\\n   - Many, many more ...',\n",
              " 'feature_names': ['sepal length (cm)',\n",
              "  'sepal width (cm)',\n",
              "  'petal length (cm)',\n",
              "  'petal width (cm)'],\n",
              " 'filename': 'iris.csv',\n",
              " 'data_module': 'sklearn.datasets.data'}"
            ]
          },
          "metadata": {},
          "execution_count": 4
        }
      ]
    },
    {
      "cell_type": "code",
      "source": [
        "iris['data'][:,0]\n",
        "X=iris['data'][:,0]\n"
      ],
      "metadata": {
        "id": "LvYkGZd-Zvp0"
      },
      "execution_count": 5,
      "outputs": []
    },
    {
      "cell_type": "code",
      "source": [
        "y=iris['data'][:,2]\n",
        "y"
      ],
      "metadata": {
        "colab": {
          "base_uri": "https://localhost:8080/",
          "height": 0
        },
        "id": "ZvLte78HaqCB",
        "outputId": "4be01fe4-4226-44cb-bb64-7d86f2fb9409"
      },
      "execution_count": 7,
      "outputs": [
        {
          "output_type": "execute_result",
          "data": {
            "text/plain": [
              "array([1.4, 1.4, 1.3, 1.5, 1.4, 1.7, 1.4, 1.5, 1.4, 1.5, 1.5, 1.6, 1.4,\n",
              "       1.1, 1.2, 1.5, 1.3, 1.4, 1.7, 1.5, 1.7, 1.5, 1. , 1.7, 1.9, 1.6,\n",
              "       1.6, 1.5, 1.4, 1.6, 1.6, 1.5, 1.5, 1.4, 1.5, 1.2, 1.3, 1.4, 1.3,\n",
              "       1.5, 1.3, 1.3, 1.3, 1.6, 1.9, 1.4, 1.6, 1.4, 1.5, 1.4, 4.7, 4.5,\n",
              "       4.9, 4. , 4.6, 4.5, 4.7, 3.3, 4.6, 3.9, 3.5, 4.2, 4. , 4.7, 3.6,\n",
              "       4.4, 4.5, 4.1, 4.5, 3.9, 4.8, 4. , 4.9, 4.7, 4.3, 4.4, 4.8, 5. ,\n",
              "       4.5, 3.5, 3.8, 3.7, 3.9, 5.1, 4.5, 4.5, 4.7, 4.4, 4.1, 4. , 4.4,\n",
              "       4.6, 4. , 3.3, 4.2, 4.2, 4.2, 4.3, 3. , 4.1, 6. , 5.1, 5.9, 5.6,\n",
              "       5.8, 6.6, 4.5, 6.3, 5.8, 6.1, 5.1, 5.3, 5.5, 5. , 5.1, 5.3, 5.5,\n",
              "       6.7, 6.9, 5. , 5.7, 4.9, 6.7, 4.9, 5.7, 6. , 4.8, 4.9, 5.6, 5.8,\n",
              "       6.1, 6.4, 5.6, 5.1, 5.6, 6.1, 5.6, 5.5, 4.8, 5.4, 5.6, 5.1, 5.1,\n",
              "       5.9, 5.7, 5.2, 5. , 5.2, 5.4, 5.1])"
            ]
          },
          "metadata": {},
          "execution_count": 7
        }
      ]
    },
    {
      "cell_type": "code",
      "source": [
        "\n",
        "\n",
        "\n",
        "\n",
        "import tensorflow as tf\n",
        "from numpy import loadtxt\n",
        "from keras.models import Sequential\n",
        "from keras.layers import Dense\n",
        "from keras import optimizers\n",
        "from tensorflow.python.keras.optimizers import *\n",
        "import numpy as np\n",
        "\n",
        "\n",
        "#Load dataset\n",
        "#split into input (X) and output (y)\n",
        "X=iris['data'][:,0]\n",
        "y=iris['data'][:,2]\n",
        "\n",
        "# X = X*1.0\n",
        "\n",
        "\n",
        "# y = y*1.0\n",
        "\n",
        "\n",
        "\n",
        "#define keras model\n",
        "model = Sequential()\n",
        "\n",
        "model.add(Dense(20,input_dim=1,activation='relu'))\n",
        "model.add(Dense(20,activation='relu'))\n",
        "model.add(Dense(20,activation='relu'))\n",
        "model.add(Dense(1))\n",
        "\n",
        "#compile the keras model\n",
        "opt = optimizers.Adam(learning_rate=0.001)\n",
        "mse = tf.keras.losses.MeanSquaredError(\n",
        "    reduction=tf.keras.losses.Reduction.SUM)\n",
        "model.compile(loss=mse, optimizer=opt)\n",
        "\n",
        "\n",
        "\n",
        "#fit the keras model on the dataset (CPU)\n",
        "model.fit(X,y,epochs=2000,batch_size=10, verbose=0)\n",
        "model.summary()\n",
        "\n",
        "#make class predictions with the model\n",
        "predictions = model.predict(X)\n",
        "\n",
        "#summarize the first 10 cases\n",
        "for i in range(10):\n",
        "    print('%s => %.2f (expected %.2f)' %(X[i].tolist(), predictions[i], y[i]) )"
      ],
      "metadata": {
        "colab": {
          "base_uri": "https://localhost:8080/",
          "height": 0
        },
        "id": "g4hdxduALA3p",
        "outputId": "c6e137ac-aa01-4a27-9687-91a4ea5bf1c6"
      },
      "execution_count": 6,
      "outputs": [
        {
          "output_type": "stream",
          "name": "stdout",
          "text": [
            "Model: \"sequential\"\n",
            "_________________________________________________________________\n",
            " Layer (type)                Output Shape              Param #   \n",
            "=================================================================\n",
            " dense (Dense)               (None, 20)                40        \n",
            "                                                                 \n",
            " dense_1 (Dense)             (None, 20)                420       \n",
            "                                                                 \n",
            " dense_2 (Dense)             (None, 20)                420       \n",
            "                                                                 \n",
            " dense_3 (Dense)             (None, 1)                 21        \n",
            "                                                                 \n",
            "=================================================================\n",
            "Total params: 901 (3.52 KB)\n",
            "Trainable params: 901 (3.52 KB)\n",
            "Non-trainable params: 0 (0.00 Byte)\n",
            "_________________________________________________________________\n",
            "5/5 [==============================] - 0s 3ms/step\n",
            "5.1 => 1.64 (expected 1.40)\n",
            "4.9 => 1.64 (expected 1.40)\n",
            "4.7 => 1.47 (expected 1.30)\n",
            "4.6 => 1.36 (expected 1.50)\n",
            "5.0 => 1.64 (expected 1.40)\n",
            "5.4 => 2.71 (expected 1.70)\n",
            "4.6 => 1.36 (expected 1.40)\n",
            "5.0 => 1.64 (expected 1.50)\n",
            "4.4 => 1.14 (expected 1.40)\n",
            "4.9 => 1.64 (expected 1.50)\n"
          ]
        }
      ]
    },
    {
      "cell_type": "code",
      "source": [
        "#summarize the first all 150 cases\n",
        "for i in range(150):\n",
        "    print('%s => %.2f (expected %.2f)' %(X[i].tolist(), predictions[i], y[i]) )"
      ],
      "metadata": {
        "colab": {
          "base_uri": "https://localhost:8080/",
          "height": 0
        },
        "id": "33SyfQ42bxxe",
        "outputId": "57e1a1a2-e775-43bd-c9a2-4d8e87d09244"
      },
      "execution_count": 7,
      "outputs": [
        {
          "output_type": "stream",
          "name": "stdout",
          "text": [
            "5.1 => 1.64 (expected 1.40)\n",
            "4.9 => 1.64 (expected 1.40)\n",
            "4.7 => 1.47 (expected 1.30)\n",
            "4.6 => 1.36 (expected 1.50)\n",
            "5.0 => 1.64 (expected 1.40)\n",
            "5.4 => 2.71 (expected 1.70)\n",
            "4.6 => 1.36 (expected 1.40)\n",
            "5.0 => 1.64 (expected 1.50)\n",
            "4.4 => 1.14 (expected 1.40)\n",
            "4.9 => 1.64 (expected 1.50)\n",
            "5.4 => 2.71 (expected 1.50)\n",
            "4.8 => 1.58 (expected 1.60)\n",
            "4.8 => 1.58 (expected 1.40)\n",
            "4.3 => 1.03 (expected 1.10)\n",
            "5.8 => 4.27 (expected 1.20)\n",
            "5.7 => 3.92 (expected 1.50)\n",
            "5.4 => 2.71 (expected 1.30)\n",
            "5.1 => 1.64 (expected 1.40)\n",
            "5.7 => 3.92 (expected 1.70)\n",
            "5.1 => 1.64 (expected 1.50)\n",
            "5.4 => 2.71 (expected 1.70)\n",
            "5.1 => 1.64 (expected 1.50)\n",
            "4.6 => 1.36 (expected 1.00)\n",
            "5.1 => 1.64 (expected 1.70)\n",
            "4.8 => 1.58 (expected 1.90)\n",
            "5.0 => 1.64 (expected 1.60)\n",
            "5.0 => 1.64 (expected 1.60)\n",
            "5.2 => 1.90 (expected 1.50)\n",
            "5.2 => 1.90 (expected 1.40)\n",
            "4.7 => 1.47 (expected 1.60)\n",
            "4.8 => 1.58 (expected 1.60)\n",
            "5.4 => 2.71 (expected 1.50)\n",
            "5.2 => 1.90 (expected 1.50)\n",
            "5.5 => 3.11 (expected 1.40)\n",
            "4.9 => 1.64 (expected 1.50)\n",
            "5.0 => 1.64 (expected 1.20)\n",
            "5.5 => 3.11 (expected 1.30)\n",
            "4.9 => 1.64 (expected 1.40)\n",
            "4.4 => 1.14 (expected 1.30)\n",
            "5.1 => 1.64 (expected 1.50)\n",
            "5.0 => 1.64 (expected 1.30)\n",
            "4.5 => 1.25 (expected 1.30)\n",
            "4.4 => 1.14 (expected 1.30)\n",
            "5.0 => 1.64 (expected 1.60)\n",
            "5.1 => 1.64 (expected 1.90)\n",
            "4.8 => 1.58 (expected 1.40)\n",
            "5.1 => 1.64 (expected 1.60)\n",
            "4.6 => 1.36 (expected 1.40)\n",
            "5.3 => 2.30 (expected 1.50)\n",
            "5.0 => 1.64 (expected 1.40)\n",
            "7.0 => 5.47 (expected 4.70)\n",
            "6.4 => 4.87 (expected 4.50)\n",
            "6.9 => 5.37 (expected 4.90)\n",
            "5.5 => 3.11 (expected 4.00)\n",
            "6.5 => 4.97 (expected 4.60)\n",
            "5.7 => 3.92 (expected 4.50)\n",
            "6.3 => 4.77 (expected 4.70)\n",
            "4.9 => 1.64 (expected 3.30)\n",
            "6.6 => 5.07 (expected 4.60)\n",
            "5.2 => 1.90 (expected 3.90)\n",
            "5.0 => 1.64 (expected 3.50)\n",
            "5.9 => 4.37 (expected 4.20)\n",
            "6.0 => 4.47 (expected 4.00)\n",
            "6.1 => 4.57 (expected 4.70)\n",
            "5.6 => 3.52 (expected 3.60)\n",
            "6.7 => 5.17 (expected 4.40)\n",
            "5.6 => 3.52 (expected 4.50)\n",
            "5.8 => 4.27 (expected 4.10)\n",
            "6.2 => 4.67 (expected 4.50)\n",
            "5.6 => 3.52 (expected 3.90)\n",
            "5.9 => 4.37 (expected 4.80)\n",
            "6.1 => 4.57 (expected 4.00)\n",
            "6.3 => 4.77 (expected 4.90)\n",
            "6.1 => 4.57 (expected 4.70)\n",
            "6.4 => 4.87 (expected 4.30)\n",
            "6.6 => 5.07 (expected 4.40)\n",
            "6.8 => 5.27 (expected 4.80)\n",
            "6.7 => 5.17 (expected 5.00)\n",
            "6.0 => 4.47 (expected 4.50)\n",
            "5.7 => 3.92 (expected 3.50)\n",
            "5.5 => 3.11 (expected 3.80)\n",
            "5.5 => 3.11 (expected 3.70)\n",
            "5.8 => 4.27 (expected 3.90)\n",
            "6.0 => 4.47 (expected 5.10)\n",
            "5.4 => 2.71 (expected 4.50)\n",
            "6.0 => 4.47 (expected 4.50)\n",
            "6.7 => 5.17 (expected 4.70)\n",
            "6.3 => 4.77 (expected 4.40)\n",
            "5.6 => 3.52 (expected 4.10)\n",
            "5.5 => 3.11 (expected 4.00)\n",
            "5.5 => 3.11 (expected 4.40)\n",
            "6.1 => 4.57 (expected 4.60)\n",
            "5.8 => 4.27 (expected 4.00)\n",
            "5.0 => 1.64 (expected 3.30)\n",
            "5.6 => 3.52 (expected 4.20)\n",
            "5.7 => 3.92 (expected 4.20)\n",
            "5.7 => 3.92 (expected 4.20)\n",
            "6.2 => 4.67 (expected 4.30)\n",
            "5.1 => 1.64 (expected 3.00)\n",
            "5.7 => 3.92 (expected 4.10)\n",
            "6.3 => 4.77 (expected 6.00)\n",
            "5.8 => 4.27 (expected 5.10)\n",
            "7.1 => 5.57 (expected 5.90)\n",
            "6.3 => 4.77 (expected 5.60)\n",
            "6.5 => 4.97 (expected 5.80)\n",
            "7.6 => 6.06 (expected 6.60)\n",
            "4.9 => 1.64 (expected 4.50)\n",
            "7.3 => 5.77 (expected 6.30)\n",
            "6.7 => 5.17 (expected 5.80)\n",
            "7.2 => 5.67 (expected 6.10)\n",
            "6.5 => 4.97 (expected 5.10)\n",
            "6.4 => 4.87 (expected 5.30)\n",
            "6.8 => 5.27 (expected 5.50)\n",
            "5.7 => 3.92 (expected 5.00)\n",
            "5.8 => 4.27 (expected 5.10)\n",
            "6.4 => 4.87 (expected 5.30)\n",
            "6.5 => 4.97 (expected 5.50)\n",
            "7.7 => 6.17 (expected 6.70)\n",
            "7.7 => 6.17 (expected 6.90)\n",
            "6.0 => 4.47 (expected 5.00)\n",
            "6.9 => 5.37 (expected 5.70)\n",
            "5.6 => 3.52 (expected 4.90)\n",
            "7.7 => 6.17 (expected 6.70)\n",
            "6.3 => 4.77 (expected 4.90)\n",
            "6.7 => 5.17 (expected 5.70)\n",
            "7.2 => 5.67 (expected 6.00)\n",
            "6.2 => 4.67 (expected 4.80)\n",
            "6.1 => 4.57 (expected 4.90)\n",
            "6.4 => 4.87 (expected 5.60)\n",
            "7.2 => 5.67 (expected 5.80)\n",
            "7.4 => 5.86 (expected 6.10)\n",
            "7.9 => 6.46 (expected 6.40)\n",
            "6.4 => 4.87 (expected 5.60)\n",
            "6.3 => 4.77 (expected 5.10)\n",
            "6.1 => 4.57 (expected 5.60)\n",
            "7.7 => 6.17 (expected 6.10)\n",
            "6.3 => 4.77 (expected 5.60)\n",
            "6.4 => 4.87 (expected 5.50)\n",
            "6.0 => 4.47 (expected 4.80)\n",
            "6.9 => 5.37 (expected 5.40)\n",
            "6.7 => 5.17 (expected 5.60)\n",
            "6.9 => 5.37 (expected 5.10)\n",
            "5.8 => 4.27 (expected 5.10)\n",
            "6.8 => 5.27 (expected 5.90)\n",
            "6.7 => 5.17 (expected 5.70)\n",
            "6.7 => 5.17 (expected 5.20)\n",
            "6.3 => 4.77 (expected 5.00)\n",
            "6.5 => 4.97 (expected 5.20)\n",
            "6.2 => 4.67 (expected 5.40)\n",
            "5.9 => 4.37 (expected 5.10)\n"
          ]
        }
      ]
    },
    {
      "cell_type": "code",
      "source": [
        "#PLOTTING\n",
        "import matplotlib.pyplot as plt\n",
        "number_grid = np.linspace(4, 9, 9)\n",
        "plt.scatter(X,y, label='data')\n",
        "plt.plot(number_grid,model.predict(np.expand_dims(number_grid,axis=1)) , color='red', label='model')\n",
        "plt.xlabel('sepal length')\n",
        "plt.ylabel(' petal length')\n",
        "plt.legend()"
      ],
      "metadata": {
        "colab": {
          "base_uri": "https://localhost:8080/",
          "height": 485
        },
        "id": "qKxFbDD4bz3Z",
        "outputId": "26968c74-76f2-4876-8620-022708d6b440"
      },
      "execution_count": 10,
      "outputs": [
        {
          "output_type": "stream",
          "name": "stdout",
          "text": [
            "1/1 [==============================] - 0s 25ms/step\n"
          ]
        },
        {
          "output_type": "execute_result",
          "data": {
            "text/plain": [
              "<matplotlib.legend.Legend at 0x7bf3d109e1d0>"
            ]
          },
          "metadata": {},
          "execution_count": 10
        },
        {
          "output_type": "display_data",
          "data": {
            "text/plain": [
              "<Figure size 640x480 with 1 Axes>"
            ],
            "image/png": "[encoded data removed]"
          },
          "metadata": {}
        }
      ]
    }
  ]
}